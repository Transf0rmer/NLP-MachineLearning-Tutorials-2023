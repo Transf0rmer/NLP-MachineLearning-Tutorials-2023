{
  "cells": [
    {
      "cell_type": "markdown",
      "metadata": {
        "id": "view-in-github",
        "colab_type": "text"
      },
      "source": [
        "<a href=\"https://colab.research.google.com/github/Andrian0s/ML4NLP1-2023-Tutorial-Notebooks/blob/main/tutorial_notebooks/02_D2AI_pytorch_linear_algebra.ipynb\" target=\"_parent\"><img src=\"https://colab.research.google.com/assets/colab-badge.svg\" alt=\"Open In Colab\"/></a>"
      ]
    },
    {
      "cell_type": "markdown",
      "id": "a622c08e",
      "metadata": {
        "origin_pos": 1,
        "id": "a622c08e"
      },
      "source": [
        "# Linear Algebra\n",
        ":label:`sec_linear-algebra`\n",
        "\n",
        "By now, we can load datasets into tensors\n",
        "and manipulate these tensors\n",
        "with basic mathematical operations.\n",
        "To start building sophisticated models,\n",
        "we will also need a few tools from linear algebra.\n",
        "This section offers a gentle introduction\n",
        "to the most essential concepts,\n",
        "starting from scalar arithmetic\n",
        "and ramping up to matrix multiplication.\n"
      ]
    },
    {
      "cell_type": "code",
      "execution_count": null,
      "id": "dc36b473",
      "metadata": {
        "execution": {
          "iopub.execute_input": "2023-08-18T19:41:51.529162Z",
          "iopub.status.busy": "2023-08-18T19:41:51.528467Z",
          "iopub.status.idle": "2023-08-18T19:41:53.438267Z",
          "shell.execute_reply": "2023-08-18T19:41:53.437059Z"
        },
        "origin_pos": 3,
        "tab": [
          "pytorch"
        ],
        "id": "dc36b473"
      },
      "outputs": [],
      "source": [
        "import torch"
      ]
    },
    {
      "cell_type": "markdown",
      "id": "e4a38674",
      "metadata": {
        "origin_pos": 6,
        "id": "e4a38674"
      },
      "source": [
        "## Scalars\n",
        "\n",
        "\n",
        "Most everyday mathematics\n",
        "consists of manipulating\n",
        "numbers one at a time.\n",
        "Formally, we call these values *scalars*.\n",
        "For example, the temperature in Palo Alto\n",
        "is a balmy $72$ degrees Fahrenheit.\n",
        "If you wanted to convert the temperature to Celsius\n",
        "you would evaluate the expression\n",
        "$c = \\frac{5}{9}(f - 32)$, setting $f$ to $72$.\n",
        "In this equation, the values\n",
        "$5$, $9$, and $32$ are constant scalars.\n",
        "The variables $c$ and $f$\n",
        "in general represent unknown scalars.\n",
        "\n",
        "We denote scalars\n",
        "by ordinary lower-cased letters\n",
        "(e.g., $x$, $y$, and $z$)\n",
        "and the space of all (continuous)\n",
        "*real-valued* scalars by $\\mathbb{R}$.\n",
        "For expedience, we will skip past\n",
        "rigorous definitions of *spaces*:\n",
        "just remember that the expression $x \\in \\mathbb{R}$\n",
        "is a formal way to say that $x$ is a real-valued scalar.\n",
        "The symbol $\\in$ (pronounced \"in\")\n",
        "denotes membership in a set.\n",
        "For example, $x, y \\in \\{0, 1\\}$\n",
        "indicates that $x$ and $y$ are variables\n",
        "that can only take values $0$ or $1$.\n",
        "\n",
        "(**Scalars are implemented as tensors\n",
        "that contain only one element.**)\n",
        "Below, we assign two scalars\n",
        "and perform the familiar addition, multiplication,\n",
        "division, and exponentiation operations.\n"
      ]
    },
    {
      "cell_type": "code",
      "execution_count": null,
      "id": "4fc9ba1d",
      "metadata": {
        "execution": {
          "iopub.execute_input": "2023-08-18T19:41:53.442690Z",
          "iopub.status.busy": "2023-08-18T19:41:53.442040Z",
          "iopub.status.idle": "2023-08-18T19:41:53.472277Z",
          "shell.execute_reply": "2023-08-18T19:41:53.471491Z"
        },
        "origin_pos": 8,
        "tab": [
          "pytorch"
        ],
        "id": "4fc9ba1d",
        "outputId": "d3b53ca0-819a-4119-89fc-f40c62c17b62"
      },
      "outputs": [
        {
          "data": {
            "text/plain": [
              "(tensor(5.), tensor(6.), tensor(1.5000), tensor(9.))"
            ]
          },
          "execution_cou