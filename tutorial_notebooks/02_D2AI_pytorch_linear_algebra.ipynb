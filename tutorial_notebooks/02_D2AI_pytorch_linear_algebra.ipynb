{
  "cells": [
    {
      "cell_type": "markdown",
      "metadata": {
        "id": "view-in-github",
        "colab_type": "text"
      },
      "source": [
        "<a href=\"https://colab.research.google.com/github/Andrian0s/ML4NLP1-2023-Tutorial-Notebooks/blob/main/tutorial_notebooks/02_D2AI_pytorch_linear_algebra.ipynb\" target=\"_parent\"><img src=\"https://colab.research.google.com/assets/colab-badge.svg\" alt=\"Open In Colab\"/></a>"
      ]
    },
    {
      "cell_type": "markdown",
      "id": "a622c08e",
      "metadata": {
        "origin_pos": 1,
        "id": "a622c08e"
      },
      "source": [
        "# Linear Algebra\n",
        ":label:`sec_linear-algebra`\n",
        "\n",
        "By now, we can load datasets into tensors\n",
        "and manipulate these tensors\n",
        "with basic mathematical operations.\n",
        "To start building sophisticated models,\n",
        "we will also need a few tools from linear algebra.\n",
        "This section offers a gentle introduction\n",
        "to the most essential concepts,\n",
        "starting from scalar arithmetic\n",
        "and ramping up to matrix multiplication.\n"
      ]
    },
    {
      "cell_type": "code",
      "execution_count": null,
      "id": "dc36b473",
      "metadata": {
        "execution": {
          "iopub.execute_input": "2023-08-18T19:41:51.529162Z",
          "iopub.status.busy": "2023-08-18T19:41:51.528467Z",
          "iopub.status.idle": "2023-08-18T19:41:53.438267Z",
          "shell.execute_reply": "2023-08-18T19:41:53.437059Z"
        },
        "origin_pos": 3,
        "tab": [
          "pytorch"
        ],
        "id": "dc36b473"
      },
      "outputs": [],
      "source": [
        "import torch"
      ]
    },
    {
      "cell_type": "markdown",
      "id": "e4a38674",
      "metadata": {
        "origin_pos": 6,
        "id": "e4a38674"
      },
      "source": [
        "## Scalars\n",
        "\n",
        "\n",
        "Most everyday mathematics\n",
        "consists of manipulating\n",
        "numbers one at a time.\n",
        "Formally, we call these values *scalars*.\n",
 