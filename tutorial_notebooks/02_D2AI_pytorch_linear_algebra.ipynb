{
  "cells": [
    {
      "cell_type": "markdown",
      "metadata": {
        "id": "view-in-