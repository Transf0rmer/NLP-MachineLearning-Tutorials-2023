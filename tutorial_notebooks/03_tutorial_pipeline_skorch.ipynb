{
  "cells": [
    {
      "cell_type": "markdown",
      "metadata": {
        "id": "view-in-github",
        "colab_type": "text"
      },
      "source": [
        "<a href=\"https://colab.research.google.com/github/Andrian0s/ML4NLP1-2023-Tutorial-Notebooks/blob/main/tutorial_notebooks/03_tutorial_pipeline_skorch.ipynb\" target=\"_parent\"><img src=\"https://colab.research.google.com/assets/colab-badge.svg\" alt=\"Open In Colab\"/></a>"
      ]
    },
    {
      "cell_type": "markdown",
      "metadata": {
        "id": "1gzHo80DX3J0"
      },
      "source": [
        "# Introduction to sklearn Pipeline and skorch"
      ]
    },
    {
      "cell_type": "markdown",
      "metadata": {
        "id": "dVB8QC6bX3J5"
      },
      "source": [
        "In this tutorial, we will introduce\n",
        "* the Pipeline class of sklearn\n",
        "* the skorch library: a framework unifying pytorch and sklearn.\n",
        "\n",
        "Based on the notebook of Phillip Ströbel (adjustments from Janis Goldzycher, Andrianos Michail)\n"
      ]
    },
    {
      "cell_type": "markdown",
      "metadata": {
        "id": "uuLQDR5MX3J6"
      },
      "source": [
        "## Recap\n",
        "\n",
        "We are still working with the text classification data from http://qwone.com/~jason/20Newsgroups/.\n",
        "Cf. notebook from last week for more comments."
      ]
    },
    {
      "cell_type": "code",
      "execution_count": null,
      "metadata": {
        "id": "iuV1TvUNX3J7"
      },
      "outputs": [],
      "source": [
        "import os\n",
        "import pandas as pd\n",
        "\n",
        "\n",
        "def create_df(path_to_data, random_state=42):\n",
        "    \"\"\"\n",
        "    Takes the path of a folder containing all the subfolders (which contain the actual documents).\n",
        "    Builds a pandas datafram with document ids, the text and the label.\n",
        "    :param path_to_data: path to top folder as a string\n",
        "    :param random_state: integer, seed for shuffling\n",
        "    :return: pandas dataframe with all th\n",
        "    \"\"\"\n",
        "    doc_list = list()  # doc_list now: [[doc<str>, label<str>], ...]\n",
        "\n",
        "    for category in os.listdir(path_to_data):\n",
        "        for document in os.listdir(os.path.join(path_to_data, category)):\n",
        "            doc = open(os.path.join(path_to_data, category, document), 'r', encoding='latin-1').read().replace('\\n', ' ')\n",
        "            doc_list.append([doc, category])\n",
        "\n",
        "    df = pd.DataFrame(doc_list, columns=['text', 'label'])\n",
        "\n",
        "    return df.sample(frac=1, random_state=random_state) # return and shuffle dataframe"
      ]
    },
    {
      "cell_type": "code",
      "execution_count": null,
      "metadata": {
        "id": "NhNP5KxyX3J8"
      },
      "outputs": [],
      "source": [
        "train = create_df('../datasets/20news-bydate/20news-bydate-train')\n",
        "test = create_df('../datasets/20news-bydate/20news-bydate-test')"
      ]
    },
    {
      "cell_type": "markdown",
      "metadata": {
        "id": "AuvWeXL2X3J8"
      },
      "source": [
        "Several ways to inspect the data."
      ]
    },
    {
      "cell_type": "code",
      "execution_count": null,
      "metadata": {
        "id": "X1hM5sIuX3J-",
        "outputId": "3a090399-6064-4240-8f70-a66e5727627a"
      },
      "outputs": [
        {
          "data": {
            "text/html": [
              "<div>\n",
              "<style scoped>\n",
              "    .dataframe tbody tr th:only-of-type {\n",
              "        vertical-align: middle;\n",
              "    }\n",
              "\n",
              "    .dataframe tbody tr th {\n",
              "        vertical-align: top;\n",
              "    }\n",
              "\n",
              "    .dataframe thead th {\n",
              "        text-align: right;\n",
              "    }\n",
              "</style>\n",
              "<table border=\"1\" class=\"dataframe\">\n",
              "  <thead>\n",
              "    <tr style=\"text-align: right;\">\n",
              "      <th></th>\n",
              "      <th>text</th>\n",
              "      <th>label</th>\n",
              "    </tr>\n",
              "  </thead>\n",
              "  <tbody>\n",
              "    <tr>\n",
              "      <th>7492</th>\n",
              "      <td>From: fragante@unixg.ubc.ca (Gv Fragante) Subj...</td>\n",
              "      <td>comp.sys.ibm.pc.hardware</td>\n",
              "    </tr>\n",
              "    <tr>\n",
              "      <th>3546</th>\n",
              "      <td>Organization: Central Michigan University From...</td>\n",
              "      <td>rec.sport.hockey</td>\n",
              "    </tr>\n",
              "    <tr>\n",
              "      <th>5582</th>\n",
              "      <td>From: dmeier@casbah.acns.nwu.edu (Douglas Meie...</td>\n",
              "      <td>talk.politics.misc</td>\n",
              "    </tr>\n",
              "    <tr>\n",
              "      <th>4793</th>\n",
              "      <td>From: shavlik@cs.wisc.edu (Jude Shavlik) Subje...</td>\n",
              "      <td>sci.med</td>\n",
              "    </tr>\n",
              "    <tr>\n",
              "      <th>3813</th>\n",
              "      <td>From: nhmas@gauss.med.harvard.edu (Mark Shneyd...</td>\n",
              "      <td>rec.sport.hockey</td>\n",
              "    </tr>\n",
              "  </tbody>\n",
              "</table>\n",
              "</div>"
            ],
            "text/plain": [
              "                                                   text  \\\n",
              "7492  From: fragante@unixg.ubc.ca (Gv Fragante) Subj...   \n",
              "3546  Organization: Central Michigan University From...   \n",
              "5582  From: dmeier@casbah.acns.nwu.edu (Douglas Meie...   \n",
              "4793  From: shavlik@cs.wisc.edu (Jude Shavlik) Subje...   \n",
              "3813  From: nhmas@gauss.med.harvard.edu (Mark Shneyd...   \n",
              "\n",
              "                         label  \n",
              "7492  comp.sys.ibm.pc.hardware  \n",
              "3546          rec.sport.hockey  \n",
              "5582        talk.politics.misc  \n",
              "4793                   sci.med  \n",
              "3813          rec.sport.hockey  "
            ]
          },
          "execution_count": 4,
          "metadata": {},
          "output_type": "execute_result"
        }
      ],
      "source": [
        "train.head()"
      ]
    },
    {
      "cell_type": "markdown",
      "metadata": {
        "id": "jpIz2S4PX3KA"
      },
      "source": [
        "As usual, we split the labels from the training and the test set."
      ]
    },
    {
      "cell_type": "code",
      "execution_count": null,
      "metadata": {
        "id": "2r6WywPEX3KB"
      },
      "outputs": [],
      "source": [
        "X_train = train.text\n",
        "y_train = train.label\n",
        "X_test = test.text\n",
        "y_test = test.label"
      ]
    },
    {
      "cell_type": "markdown",
      "metadata": {
        "id": "mmuRdUSSX3KC"
      },
      "source": [
        "Series is just a \"One-dimensional ndarray with axis labels\". Let's see if we got this right."
      ]
    },
    {
      "cell_type": "code",
      "execution_count": null,
      "metadata":