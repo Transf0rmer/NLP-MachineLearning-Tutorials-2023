{
  "cells": [
    {
      "cell_type": "markdown",
      "metadata": {
        "id": "view-in-github",
        "colab_type": "text"
      },
      "source": [
        "<a href=\"https://colab.research.google.com/github/Andrian0s/ML4NLP1-2023-Tutorial-Notebooks/blob/main/tutorial_notebooks/03_tutorial_pipeline_skorch.ipynb\" target=\"_parent\"><img src=\"https://colab.research.google.com/assets/colab-badge.svg\" alt=\"Open In Colab\"/></a>"
      ]
    },
    {
      "cell_type": "markdown",
      "metadata": {
        "id": "1gzHo80DX3J0"
      },
      "source": [
        "# Introduction to sklearn Pipeline and skorch"
      ]
    },
    {
      "cell_type": "markdown",
      "metadata": {
        "id": "dVB8QC6bX3J5"
      },
      "source": [
        "In this tutorial, we will introduce\n",
        "* the Pipeline class of sklearn\n",
        "* the skorch library: a framework unifying pytorch and sklearn.\n",
        "\n",
        "Based on the notebook of Phillip Ströbel (adjustments from Janis Goldzycher, Andrianos Michail)\n"
      ]
    },
    {
      "cell_type": "markdown",
      "metadata"