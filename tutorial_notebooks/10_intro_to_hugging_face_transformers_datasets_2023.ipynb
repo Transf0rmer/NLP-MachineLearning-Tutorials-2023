{
  "nbformat": 4,
  "nbformat_minor": 0,
  "metadata": {
    "colab": {
      "provenance": [],
      "include_colab_link": true
    },
    "kernelspec": {
      "name": "python3",
      "display_name": "Python 3"
    },
    "widgets": {
      "application/vnd.jupyter.widget-state+json": {
        "6f367e1ccd914ab79d7911f5558ca623": {
          "model_module": "@jupyter-widgets/controls",
          "model_name": "HBoxModel",
          "model_module_version": "1.5.0",
          "state": {
            "_view_name": "HBoxView",
            "_dom_classes": [],
            "_model_name": "HBoxModel",
            "_view_module": "@jupyter-widgets/controls",
            "_model_module_version": "1.5.0",
            "_view_count": null,
            "_view_module_version": "1.5.0",
            "box_style": "",
            "layout": "IPY_MODEL_a497a227ec824419bcdec174ee583ff5",
            "_model_module": "@jupyter-widgets/controls",
            "children": [
              "IPY_MODEL_139672d9ec384fa5b998368404ba504c",
              "IPY_MODEL_dcb365e2f27943e1935878c06f8b3f05",
              "IPY_MODEL_1be355d7ce7447a2bcb2d6ff87c118fd"
            ]
          }
        },
        "a497a227ec824419bcdec174ee583ff5": {
          "model_module": "@jupyter-widgets/base",
          "model_name": "LayoutModel",
          "model_module_version": "1.2.0",
          "state": {
            "_view_name": "LayoutView",
            "grid_template_rows": null,
            "right": null,
            "justify_content": null,
            "_view_module": "@jupyter-widgets/base",
            "overflow": null,
            "_model_module_version": "1.2.0",
            "_view_count": null,
            "flex_flow": null,
            "width": null,
            "min_width": null,
            "border": null,
            "align_items": null,
            "bottom": null,
            "_model_module": "@jupyter-widgets/base",
            "top": null,
            "grid_column": null,
            "overflow_y": null,
            "overfl