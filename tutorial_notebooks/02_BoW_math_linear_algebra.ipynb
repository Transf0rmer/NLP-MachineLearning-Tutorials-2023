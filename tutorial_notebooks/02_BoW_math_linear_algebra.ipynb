{
  "nbformat": 4,
  "nbformat_minor": 0,
  "metadata": {
    "kernelspec": {
      "display_name": "Python 3",
      "language": "python",
      "name": "python3"
    },
    "language_info": {
      "codemirror_mode": {
        "name": "ipython",
        "version": 3
      },
      "file_extension": ".py",
      "mimetype": "text/x-python",
      "name": "python",
      "nbconvert_exporter": "python",
      "pygments_lexer": "ipython3",
      "version": "3.7.4"
    },
    "toc": {
      "toc_cell": false,
      "toc_number_sections": true,
      "toc_threshold": 6,
      "toc_window_display": false
    },
    "colab": {
      "provenance": [],
      "collapsed_sections": [
        "3zIpmhbAsA7h",
        "1awfh15SsA7i",
        "A7_ClsOssA7k",
        "wdM8Du4rsA7m",
        "KPGvtr-TsA7o",
        "g6b7DrAXsA7p",
        "48DUMt0WsA7q",
        "ZWElOrFBsA7q",
        "V2SDZ2RqsA7s",
        "CpqB7vQisA7s",
        "3uXYFa8KsA7t",
        "PVNQ7IPksA7u",
        "W10ZZKC7sA7w",
        "xkJEe_OrsA7x",
        "qQXIHJUPsA7y",
        "E0l31NvdsA7z",
        "qILQJXIksA72",
        "EoavEpCbsA74",
        "UjM4lA1_sA79",
        "982J86FNsA8A",
        "jtMuWk4OsA8C",
        "bLCGB65usA8D",
        "0HrCYdtfsA8D",
        "Wfu0e0xZsA8G",
        "vSwr79BisA8G",
        "28LIugZrsA8I",
        "ntD68ABasA8K",
        "IyntFhFZsA8L",
        "7o7bfmnrsA8O",
        "Xy_rm1_tsA8T",
        "FR6PUOIBsA8U",
        "Crac3bw6sA8W",
        "2CKEzqQ4sA8X"
      ],
      "include_colab_link": true
    }
  },
  "cells": [
    {
      "cell_type": "markdown",
      "metadata": {
        "id": "view-in-github",
        "colab_type": "text"
      },
      "source": [
        "<a href=\"https://colab.research.google.com/github/Andrian0s/ML4NLP1-2023-Tutorial-Notebooks/blob/main/tutorial_notebooks/02_BoW_math_linear_algebra.ipynb\" target=\"_parent\"><img src=\"https://colab.research.google.com/assets/colab-badge.svg\" alt=\"Open In Colab\"/></a>"
      ]
    },
    {
      "cell_type": "markdown",
      "metadata": {
        "id": "SuIh-BANZMMA"
      },
      "source": [
        "**Starter Activity - Exploring Bag of Words (Vectorizer)**\n",
        "\n",
        "The bag-of-words model is a simplifying representation used in natural language processing and information retrieval (IR). In this model, a text (such as a sentence or a document) is represented as the bag (multiset) of its words, disregarding grammar and even word order but keeping multiplicity.\n",
        "\n",
        "Corpus is 3 sentences:\n",
        "\n",
        "1. A bag was found next to the river\n",
        "2. Bag of words is a cool way of representing text\n",
        "3. The word on the street is that math is not cool"
      ]
    },
    {
      "cell_type": "code",
      "metadata": {
        "id": "JuAS1CCgwHU4"
      },
      "source": [
        "#\n",
        "##\n",
        "###\n",
        "####\n",
        "#####\n",
        "######\n",
        "#######\n",
        "######\n",
        "#####\n",
        "####\n",
        "###\n",
        "##\n",
        "#"
      ],
      "execution_count": null,
      "outputs": []
    },
    {
      "cell_type": "code",
      "metadata": {
        "colab": {
          "base_uri": "https://localhost:8080/"
        },
        "id": "C1lpq7z9wwHf",
        "outputId": "15bec061-836e-4903-9b7c-15207a9b7847"
      },
      "source": [
        "from sklearn.feature_extraction.text import CountVectorizer\n",
        "corpus = [\n",
        "     'A bag was found next to the river',\n",
        "     'Bag of words is a cool way of representing text',\n",
        "     'The word on the street is that math is not cool',\n",
        " ]\n",
        "vectorizer = CountVectorizer()\n",
        "X = vectorizer.fit_transform(corpus)\n",
        "vectorizer.get_feature_names()"
      ],
      "execution_count": null,
      "outputs": [
        {
          "output_type": "execute_result",
          "data": {
            "text/plain": [
              "['bag',\n",
              " 'cool',\n",
              " 'found',\n",
              " 'is',\n",
              " 'math',\n",
              " 'next',\n",
              " 'not',\n",
              " 'of',\n",
              " 'on',\n",
              " 'representing',\n",
              " 'river',\n",
              " 'street',\n",
              " 'text',\n",
              " 'that',\n",
              " 'the',\n",
              " 'to',\n",
              " 'was',\n",
              " 'way',\n",
              " 'word',\n",
              " 'words']"
            ]
          },
          "metadata": {},
          "execution_count": 12
        }
      ]
    },
    {
      "cell_type": "code",
      "metadata": {
        "colab": {
          "base_uri": "https://localhost:8080/"
        },
        "id": "rkdpTuylQ0kS",
        "outputId": "9315c9c2-a42b-4aaa-9e02-87ed13a9bc5a"
      },
      "source": [
        "X.toarray()"
      ],
      "execution_count": null,
      "outputs": [
        {
          "output_type": "execute_result",
          "data": {
            "text/plain": [
              "array([[1, 0, 1, 0, 0, 1, 0, 0, 0, 0, 1, 0, 0, 0, 1, 1, 1, 0, 0, 0],\n",
              "       [1, 1, 0, 1, 0, 0, 0, 2, 0, 1, 0, 0, 1, 0, 0, 0, 0, 1, 0, 1],\n",
              "       [0, 1, 0, 2, 1, 0, 1, 0, 1, 0, 0, 1, 0, 1, 2, 0, 0, 0, 1, 0]])"
            ]
          }