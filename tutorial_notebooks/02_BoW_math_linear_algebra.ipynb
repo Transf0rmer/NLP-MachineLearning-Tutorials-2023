{
  "nbformat": 4,
  "nbformat_minor": 0,
  "metadata": {
    "kernelspec": {
      "display_name": "Python 3",
      "language": "python",
      "name": "python3"
    },
    "language_info": {
      "codemirror_mode": {
        "name": "ipython",
        "version": 3
      },
      "file_extension": ".py",
      "mimetype": "text/x-python",
      "name": "python",
      "nbconvert_exporter": "python",
      "pygments_lexer": "ipython3",
      "version": "3.7.4"
    },
    "toc": {
      "toc_cell": false,
      "toc_number_sections": true,
      "toc_threshold": 6,
      "toc_window_display": false
    },
    "colab": {
      "provenance": [],
      "collapsed_sections": [
        "3zIpmhbAsA7h",
        "1awfh15SsA7i",
        "A7_ClsOssA7k",
        "wdM8Du4rsA7m",
        "KPGvtr-TsA7o",
        "g6b7DrAXsA7p",
        "48DUMt0WsA7q",
        "ZWElOrFBsA7q",
        "V2SDZ2RqsA7s",
        "CpqB7vQisA7s",
        "3uXYFa8KsA7t",
        "PVNQ7IPksA7u",
        "W10ZZKC7sA7w",
        "xkJEe_OrsA7x",
        "qQXIHJUPsA7y",
        "E0l31NvdsA7z",
        "qILQJXIksA72",
        "EoavEpCbsA74",
        "UjM4lA1_sA79",
        "982J86FNsA8A",
        "jtMuWk4OsA8C",
        "bLCGB65usA8D",
        "0HrCYdtfsA8D",
        "Wfu0e0xZsA8G",
        "vSwr79BisA8G",
        "28LIugZrsA8I",
        "ntD68ABasA8K",
        "IyntFhFZsA8L",
        "7o7bfmnrsA8O",
        "Xy_rm1_tsA8T",
        "FR6PUOIBsA8U",
        "Crac3bw6sA8W",
        "2CKEzqQ4sA8X"
      ],
      "include_colab_link": true
    }
  },
  "cells": [
    {
      "cell_type": "markdown",
      "metadata": {
        "id": "view-in-github",
        "colab_type": "text"
      },
      "source": [
        "<a href=\"https://colab.research.google.com/github/Andrian0s/ML4NLP1-2023-Tutorial-Notebooks/blob/main/tutorial_notebooks/02_BoW_math_linear_algebra.ipynb\" target=\"_parent\"><img src=\"https://colab.research.google.com/assets/colab-badge.svg\" alt=\"Open In Colab\"/></a>"
      ]
    },
    {
      "cell_type": "markdown",
      "metadata": {
        "id": "SuIh-BANZMMA"
      },
      "source": [
        "**Starter Activity - Exploring Bag of Words (Vectorizer)**\n",
        "\n",
        "The bag-of-words model is a simplifying representation used in natural language processing and information retrieval (IR). In this model, a text (such as a sentence or a document) is represented as the bag (multiset) of its words, disregarding grammar and even word order but keeping multiplicity.\n",
        "\n",
        "Corpus is 3 sentences:\n",
        "\n",
        "1. A bag was found next to the river\n",
        "2. Bag of words is a cool way of representing text\n",
        "3. The word on the street is that math is not cool"
      ]
    },
    {
      "cell_type": "code",
      "metadata": {
        "id": "JuAS1CCgwHU4"
      },
      "source": [
        "#\n",
        "##\n",
        "###\n",
        "####\n",
        "#####\n",
        "######\n",
        "#######\n",
        "######\n",
        "#####\n",
        "####\n",
        "###\n",
        "##\n",
        "#"
      ],
      "execution_count": null,
      "outputs": []
    },
    {
      "cell_type": "code",
      "metadata": {
        "colab": {
          "base_uri": "https://localhost:8080/"
        },
        "id": "C1lpq7z9wwHf",
        "outputId": "15bec061-836e-4903-9b7c-15207a9b7847"
      },
      "source": [
        "from sklearn.feature_extraction.text import CountVectorizer\n",
        "corpus = [\n",
        "     'A bag was found next to the river',\n",
        "     'Bag of words is a cool way of representing text',\n",
        "     'The word on the street is that math is not cool',\n",
        " ]\n",
        "vectorizer = CountVectorizer()\n",
        "X = vectorizer.fit_transform(corpus)\n",
        "vectorizer.get_feature_names()"
      ],
      "execution_count": null,
      "outputs": [
        {
          "output_type": "execute_result",
          "data": {
            "text/plain": [
              "['bag',\n",
              " 'cool',\n",
              " 'found',\n",
              " 'is',\n",
              " 'math',\n",
              " 'next',\n",
              " 'not',\n",
              " 'of',\n",
              " 'on',\n",
              " 'representing',\n",
              " 'river',\n",
              " 'street',\n",
              " 'text',\n",
              " 'that',\n",
              " 'the',\n",
              " 'to',\n",
              " 'was',\n",
              " 'way',\n",
              " 'word',\n",
              " 'words']"
            ]
          },
          "metadata": {},
          "execution_count": 12
        }
      ]
    },
    {
      "cell_type": "code",
      "metadata": {
        "colab": {
          "base_uri": "https://localhost:8080/"
        },
        "id": "rkdpTuylQ0kS",
        "outputId": "9315c9c2-a42b-4aaa-9e02-87ed13a9bc5a"
      },
      "source": [
        "X.toarray()"
      ],
      "execution_count": null,
      "outputs": [
        {
          "output_type": "execute_result",
          "data": {
            "text/plain": [
              "array([[1, 0, 1, 0, 0, 1, 0, 0, 0, 0, 1, 0, 0, 0, 1, 1, 1, 0, 0, 0],\n",
              "       [1, 1, 0, 1, 0, 0, 0, 2, 0, 1, 0, 0, 1, 0, 0, 0, 0, 1, 0, 1],\n",
              "       [0, 1, 0, 2, 1, 0, 1, 0, 1, 0, 0, 1, 0, 1, 2, 0, 0, 0, 1, 0]])"
            ]
          },
          "metadata": {},
          "execution_count": 13
        }
      ]
    },
    {
      "cell_type": "markdown",
      "metadata": {
        "id": "7mMHdNfWRI1A"
      },
      "source": [
        "bag cool found is math next not of on representing river street text that the to was way word words\n",
        "\n",
        "[1, 0, 1, 0, 0, 1, 0, 0, 0, 0, 1, 0, 0, 0, 1, 1, 1, 0, 0, 0]\n",
        "\n",
        "[1, 1, 0, 1, 0, 0, 0, 2, 0, 1, 0, 0, 1, 0, 0, 0, 0, 1, 0, 1]\n",
        "\n",
        "[0, 1, 0, 2, 1, 0, 1, 0, 1, 0, 0, 1, 0, 1, 2, 0, 0, 0, 1, 0]"
      ]
    },
    {
      "cell_type": "markdown",
      "metadata": {
        "id": "lQf7QeYcSfZX"
      },
      "source": [
        "How to Improve the features representation:\n",
        "1.   Stop words List Removal\n",
        "2.   Lemmatization (brings to a common form)\n",
        "3.   Lowercasing\n",
        "4.   Limitation of Dictionary (max K, max words)\n",
        "5.   Synonym Mapping\n",
        "\n",
        "Problems:\n",
        "1. Different words have different meaning in contexts\n",
        "2. Context and order matters\n",
        "3. Lack of distance Comparison between words used in similar context.\n",
        "\n"
      ]
    },
    {
      "cell_type": "markdown",
      "metadata": {
        "id": "4e032snbsA7S"
      },
      "source": [
        "\n",
        "**Math - Linear Algebra**\n",
        "\n",
        "*Linear Algebra is the branch of mathematics that studies [vector spaces](https://en.wikipedia.org/wiki/Vector_space) and linear transformations between vector spaces, such as rotating a shape, scaling it up or down, translating it (ie. moving it), etc.*\n",
        "\n",
        "*Machine Learning relies heavily on Linear Algebra, so it is essential to understand what vectors and matrices are, what operations you can perform with them, and how they can be useful.*"
      ]
    },
    {
      "cell_type": "markdown",
      "metadata": {
        "id": "QSJsXdF1sA7V"
      },
      "source": [
        "Before we start, let's ensure that this notebook works well in both Python 2 and 3:"
      ]
    },
    {
      "cell_type": "code",
      "metadata": {
        "id": "XGx2_Qi-sA7W"
      },
      "source": [
        "from __future__ import division, print_function, unicode_literals"
      ],
      "execution_count": null,
      "outputs": []
    },
    {
      "cell_type": "markdown",
      "metadata": {
        "id": "6pqK3PGXsA7Y"
      },
      "source": [
        "# Vectors\n",
        "## Definition\n",
        "A vector is a quantity defined by a magnitude and a direction. For example, a rocket's velocity is a 3-dimensional vector: its magnitude is the speed of the rocket, and its direction is (hopefully) up. A vector can be represented by an array of numbers called *scalars*. Each scalar corresponds to the magnitude of the vector with regards to each dimension.\n",
        "\n",
        "For example, say the rocket is going up at a slight angle: it has a vertical speed of 5,000 m/s, and also a slight speed towards the East at 10 m/s, and a slight speed towards the North at 50 m/s. The rocket's velocity may be represented by the following vector:\n",
        "\n",
        "**velocity** $= \\begin{pmatrix}\n",
        "10 \\\\\n",
        "50 \\\\\n",
        "5000 \\\\\n",
        "\\end{pmatrix}$\n",
        "\n",
        "Note: by convention vectors are generally presented in the form of columns. Also, vector names are generally lowercase to distinguish them from matrices (which we will discuss below) and in bold (when possible) to distinguish them from simple scalar values such as ${meters\\_per\\_second} = 5026$.\n",
        "\n",
        "A list of N numbers may also represent the coordinates of a point in an N-dimensional space, so it is quite frequent to represent vectors as simple points instead of arrows. A vector with 1 element may be represented as an arrow or a point on an axis, a vector with 2 elements is an arrow or a point on a plane, a vector with 3 elements is an arrow or point in space, and a vector with N elements is an arrow or a point in an N-dimensional space… which most people find hard to imagine.\n",
        "\n",
        "\n",
        "##  Purpose\n",
        "Vectors have many purposes in Machine Learning, most notably to represent observations and predictions. For example, say we built a Machine Learning system to classify videos into 3 categories (good, spam, clickbait) based on what we know about them. For each video, we would have a vector representing what we know about it, such as:\n",
        "\n",
        "**video** $= \\begin{pmatrix}\n",
        "10.5 \\\\\n",
        "5.2 \\\\\n",
        "3.25 \\\\\n",
        "7.0\n",
        "\\end{pmatrix}$\n",
        "\n",
        "This vector could represent a video that lasts 10.5 minutes, but only 5.2% viewers watch for more than a minute, it gets 3.25 views per day on average, and it was flagged 7 times as spam. As you can see, each axis may have a different meaning.\n",
        "\n",
        "Based on this vector our Machine Learning system may predict that there is an 80% probability that it is a spam video, 18% that it is clickbait, and 2% that it is a good video. This could be represented as the following vector:\n",
        "\n",
        "**class_probabilities** $= \\begin{pmatrix}\n",
        "0.80 \\\\\n",
        "0.18 \\\\\n",
        "0.02\n",
        "\\end{pmatrix}$"
      ]
    },
    {
      "cell_type": "markdown",
      "metadata": {
        "id": "ed2DcsO3sA7a"
      },
      "source": [
        "## Vectors in python\n",
        "In python, a vector can be represented in many ways, the simplest being a regular python list of numbers:"
      ]
    },
    {
      "cell_type": "code",
      "metadata": {
        "id": "-Aq3i1q6sA7b",
        "colab": {
          "base_uri": "https://localhost:8080/"
        },
        "outputId": "24e8b53b-c71d-4884-a63a-53b83a110229"
      },
      "source": [
        "[10.5, 5.2, 3.25, 7.0]"
      ],
      "execution_count": null,
      "outputs": [
        {
          "output_type": "execute_result",
          "data": {
            "text/plain": [
              "[10.5, 5.2, 3.25, 7.0]"
            ]
          },
          "metadata": {},
          "execution_count": 15
        }
      ]
    },
    {
      "cell_type": "markdown",
      "metadata": {
        "id": "D1FI8ywmsA7d"
      },
      "source": [
        "Since we plan to do quite a lot of scientific calculations, it is much better to use NumPy's `ndarray`, which provides a lot of convenient and optimized implementations of essential mathematical operations on vectors (for more details about NumPy, check out the [NumPy tutorial](tools_numpy.ipynb)). For example:"
      ]
    },
    {
      "cell_type": "code",
      "metadata": {
        "id": "BUWnhV4jsA7e",
        "colab": {
          "base_uri": "https://localhost:8080/"
        },
        "outputId": "90cac3a5-d072-43cd-96d3-5cdad18e31d5"
      },
      "source": [
        "import numpy as np\n",
        "video = np.array([10.5, 5.2, 3.25, 7.0])\n",
        "video"
      ],
      "execution_count": null,
      "outputs": [
        {
          "output_type": "execute_result",
          "data": {
            "text/plain": [
              "array([10.5 ,  5.2 ,  3.25,  7.  ])"
            ]
          },
          "metadata": {},
          "execution_count": 16
        }
      ]
    },
    {
      "cell_type": "markdown",
      "metadata": {
        "id": "wX_DilZvsA7e"
      },
      "source": [
        "The size of a vector can be obtained using the `size` attribute:"
      ]
    },
    {
      "cell_type": "code",
      "metadata": {
        "id": "ho6c6jy4sA7f",
        "colab": {
          "base_uri": "https://localhost:8080/"
        },
        "outputId": "6c3b5d87-8ac7-44ad-bf48-b536da2fd973"
      },
      "source": [
        "video.size"
      ],
      "execution_count": null,
      "outputs": [
        {
          "output_type": "execute_result",
          "data": {
            "text/plain": [
              "4"
            ]
          },
          "metadata": {},
          "execution_count": 17
        }
      ]
    },
    {
      "cell_type": "markdown",
      "metadata": {
        "id": "3gj-oejqsA7g"
      },
      "source": [
        "The $i^{th}$ element (also called *entry* or *item*) of a vector $\\textbf{v}$ is noted $\\textbf{v}_i$.\n",
        "\n",
        "Note that indices in mathematics generally start at 1, but in programming they usually start at 0. So to access $\\textbf{video}_3$ programmatically, we would write:"
      ]
    },
    {
      "cell_type": "code",
      "metadata": {
        "id": "xaj8I1EusA7h",
        "colab": {
          "base_uri": "https://localhost:8080/"
        },
        "outputId": "2033b2cc-f5c4-4b7a-9852-5c8f92c0d9be"
      },
      "source": [
        "video[2]  # 3rd element"
      ],
      "execution_count": null,
      "outputs": [
        {
          "output_type": "execute_result",
          "data": {
            "text/plain": [
              "3.25"
            ]
          },
          "metadata": {},
          "execution_count": 18
        }
      ]
    },
    {
      "cell_type": "markdown",
      "metadata": {
        "id": "3zIpmhbAsA7h"
      },
      "source": [
        "## Plotting vectors\n",
        "To plot vectors we will use matplotlib, so let's start by importing it (for details about matplotlib, check the [matplotlib tutorial](tools_matplotlib.ipynb)):"
      ]
    },
    {
      "cell_type": "code",
      "metadata": {
        "id": "-CoOBbA7sA7h"
      },
      "source": [
        "%matplotlib inline\n",
        "import matplotlib.pyplot as plt"
      ],
      "execution_count": null,
      "outputs": []
    },
    {
      "cell_type": "markdown",
      "metadata": {
        "id": "1awfh15SsA7i"
      },
      "source": [
        "### 2D vectors\n",
        "Let's create a couple very simple 2D vectors to plot:"
      ]
    },
    {
      "cell_type": "code",
      "metadata": {
        "id": "B1oDOIcjsA7i"
      },
      "source": [
        "u = np.array([2, 5])\n",
        "v = np.array([3, 1])"
      ],
      "execution_count": null,
      "outputs": []
    },
    {
      "cell_type": "markdown",
      "metadata": {
        "id": "kMt04jy6sA7i"
      },
      "source": [
        "These vectors each have 2 elements, so they can easily be represented graphically on a 2D graph, for example as points:"
      ]
    },
    {
      "cell_type": "code",
      "metadata": {
        "id": "zyAzU4gOsA7j",
        "colab": {
          "base_uri": "https://localhost:8080/",
          "height": 269
        },
        "outputId": "bc47c0ca-a668-42cf-9f6c-43b96e15e4c4"
      },
      "source": [
        "x_coords, y_coords = zip(u, v)\n",
        "plt.scatter(x_coords, y_coords, color=[\"r\",\"b\"])\n",
        "plt.axis([0, 9, 0, 6])\n",
        "plt.grid()\n",
        "plt.show()"
      ],
      "execution_count": null,
      "outputs": [
        {
          "output_type": "display_data",
          "data": {
            "image/png": "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\n",
            "text/plain": [
              "<Figure size 432x288 with 1 Axes>"
            ]
          },
          "metadata": {
            "needs_background": "light"
          }
        }
      ]
    },
    {
      "cell_type": "markdown",
      "metadata": {
        "id": "YjXFtEIYsA7j"
      },
      "source": [
        "Vectors can also be represented as arrows. Let's create a small convenience function to draw nice arrows ***Not Important, maybe later***:"
      ]
    },
    {
      "cell_type": "code",
      "metadata": {
        "id": "1o1QkGMKsA7k"
      },
      "source": [
        "def plot_vector2d(vector2d, origin=[0, 0], **options):\n",
        "    return plt.arrow(origin[0], origin[1], vector2d[0], vector2d[1],\n",
        "              head_width=0.2, head_length=0.3, length_includes_head=True,\n",
        "              **options)"
      ],
      "execution_count": null,
      "outputs": []
    },
    {
      "cell_type": "markdown",
      "metadata": {
        "id": "KsnnSOacsA7k"
      },
      "source": [
        "Now let's draw the vectors **u** and **v** as arrows:"
      ]
    },
    {
      "cell_type": "code",
      "metadata": {
        "id": "nYeLC6ScsA7k",
        "colab": {
          "base_uri": "https://localhost:8080/",
          "height": 269
        },
        "outputId": "0288d288-7ac8-41ad-939c-dd8076bf01bc"
      },
      "source": [
        "plot_vector2d(u, color=\"r\")\n",
        "plot_vector2d(v, color=\"b\")\n",
        "plt.axis([0, 9, 0, 6])\n",
        "plt.grid()\n",
        "plt.show()"
      ],
      "execution_count": null,
      "outputs": [
        {
          "output_type": "display_data",
          "data": {
            "image/png": "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\n",
            "text/plain": [
              "<Figure size 432x288 with 1 Axes>"
            ]
          },
          "metadata": {
            "needs_background": "light"
          }
        }
      ]
    },
    {
      "cell_type": "markdown",
      "metadata": {
        "id": "A7_ClsOssA7k"
      },
      "source": [
        "### 3D vectors\n",
        "Plotting 3D vectors is also relatively straightforward. First let's create two 3D vectors:"
      ]
    },
    {
      "cell_type": "code",
      "metadata": {
        "id": "m20C5KcDsA7l"
      },
      "source": [
        "a = np.array([1, 2, 8])\n",
        "b = np.array([5, 6, 3])"
      ],
      "execution_count": null,
      "outputs": []
    },
    {
      "cell_type": "markdown",
      "metadata": {
        "id": "1_Ad1kgAsA7l"
      },
      "source": [
        "Now let's plot them using matplotlib's `Axes3D`:"
      ]
    },
    {
      "cell_type": "code",
      "metadata": {
        "id": "PX8LJ72gsA7l",
        "colab": {
          "base_uri": "https://localhost:8080/",
          "height": 248
        },
        "outputId": "45b876f4-9c22-42a6-d9d8-081a1f244468"
      },
      "source": [
        "from mpl_toolkits.mplot3d import Axes3D\n",
        "\n",
        "subplot3d = plt.subplot(111, projection='3d')\n",
        "x_coords, y_coords, z_coords = zip(a,b)\n",
        "subplot3d.scatter(x_coords, y_coords, z_coords)\n",
        "subplot3d.set_zlim3d([0, 9])\n",
        "plt.show()"
      ],
      "execution_count": null,
      "outputs": [
        {
          "output_type": "display_data",
          "data": {
            "image/png": "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