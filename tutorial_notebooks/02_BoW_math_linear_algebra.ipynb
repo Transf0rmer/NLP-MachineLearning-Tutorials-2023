{
  "nbformat": 4,
  "nbformat_minor": 0,
  "metadata": {
    "kernelspec": {
      "display_name": "Python 3",
      "language": "python",
      "name": "python3"
    },
    "language_info": {
      "codemirror_mode": {
        "name": "ipython",
        "version": 3
      },
      "file_extension": ".py",
      "mimetype": "text/x-python",
      "name": "python",
      "nbconvert_exporter": "python",
      "pygments_lexer": "ipython3",
      "version": "3.7.4"
    },
    "toc": {
      "toc_cell": false,
      "toc_number_sections": true,
      "toc_threshold": 6,
      "toc_window_display": false
    },
    "colab": {
      "provenance": [],
      "collapsed_sections": [
        "3zIpmhbAsA7h",
        "1awfh15SsA7i",
        "A7_ClsOssA7k",
        "wdM8Du4rsA7m",
        "KPGvtr-TsA7o",
        "g6b7DrAXsA7p",
        "48DUMt0WsA7q",
        "ZWElOrFBsA7q",
        "V2SDZ2RqsA7s",
        "CpqB7vQisA7s",
        "3uXYFa8KsA7t",
        "PVNQ7IPksA7u",
        "W10ZZKC7sA7w",
        "xkJEe_OrsA7x",
        "qQXIHJUPsA7y",
        "E0l31NvdsA7z",
        "qILQJXIksA72",
        "EoavEpCbsA74",
        "UjM4lA1_sA79",
        "982J86FNsA8A",
        "jtMuWk4OsA8C",
        "bLCGB65usA8D",
        "0HrCYdtfsA8D",
        "Wfu0e0xZsA8G",
        "vSwr79BisA8G",
        "28LIugZrsA8I",
        "ntD68ABasA8K",
        "IyntFhFZsA8L",
        "7o7bfmnrsA8O",
        "Xy_rm1_tsA8T",
        "FR6PUOIBsA8U",
        "Crac3bw6sA8W",
        "2CKEzqQ4sA8X"
      ],
      "include_colab_link": true
    }
  },
  "cells": [
    {
      "cell_type": "markdown",
      "metadata": {
        "id": "view-in-github",
        "colab_type": "text"
      },
      "source": [
        "<a href=\"https://colab.research.google.com/github/Andrian0s/ML4NLP1-2023-Tutorial-Notebooks/blob/main/tutorial_notebooks/02_BoW_math_linear_algebra.ipynb\" target=\"_parent\"><img src=\"https://colab.research.google.com/assets/colab-badge.svg\" alt=\"Open In Colab\"/></a>"
      ]
    },
    {
      "cell_type": "markdown",
      "metadata": {
        "id": "SuIh-BANZMMA"
      },
      "source": [
        "**Starter Activity - Exploring Bag of Words (Vectorizer)**\n",
        "\n",
        "The bag-of-words model is a simplifying representation used in natural language processing and information retrieval (IR). In this model, a text (such as a sentence or a document) is represented as the bag (multiset) of its words, disregarding grammar and even word order but keeping multiplicity.\n",
        "\n",
        "Corpus is 3 sentences:\n",
        "\n",
        "1. A bag was found next to the river\n",
        "2. Bag of words is a cool way of representing text\n",
        "3. The word on the street is that math is not cool"
      ]
    },
    {
      "cell_type": "code",
      "metadata": {
        "id": "JuAS1CCgwHU4"
      },
      "source": [
        "#\n",
        "##\n",
        "###\n",
        "####\n",
        "#####\n",
        "######\n",
        "#######\n",
        "######\n",
        "#####\n",
        "####\n",
        "###\n",
        "##\n",
        "#"
      ],
      "execution_count": null,
      "outputs": []
    },
    {
      "cell_type": "code",
      "metadata": {
        "colab": {
          "base_uri": "https://localhost:8080/"
        },
        "id": "C1lpq7z9wwHf",
        "outputId": "15bec061-836e-4903-9b7c-15207a9b7847"
      },
      "source": [
        "from sklearn.feature_extraction.text import CountVectorizer\n",
        "corpus = [\n",
        "     'A bag was found next to the river',\n",
        "     'Bag of words is a cool way of representing text',\n",
        "     'The word on the street is that math is not cool',\n",
        " ]\n",
        "vectorizer = CountVectorizer()\n",
        "X = vectorizer.fit_transform(corpus)\n",
        "vectorizer.get_feature_names()"
      ],
      "execution_count": null,
      "outputs": [
        {
          "output_type": "execute_result",
          "data": {
            "text/plain": [
              "['bag',\n",
              " 'cool',\n",
              " 'found',\n",
              " 'is',\n",
              " 'math',\n",
              " 'next',\n",
              " 'not',\n",
              " 'of',\n",
              " 'on',\n",
              " 'representing',\n",
              " 'river',\n",
              " 'street',\n",
              " 'text',\n",
              " 'that',\n",
              " 'the',\n",
              " 'to',\n",
              " 'was',\n",
              " 'way',\n",
              " 'word',\n",
              " 'words']"
            ]
          },
          "metadata": {},
          "execution_count": 12
        }
      ]
    },
    {
      "cell_type": "code",
      "metadata": {
        "colab": {
          "base_uri": "https://localhost:8080/"
        },
        "id": "rkdpTuylQ0kS",
        "outputId": "9315c9c2-a42b-4aaa-9e02-87ed13a9bc5a"
      },
      "source": [
        "X.toarray()"
      ],
      "execution_count": null,
      "outputs": [
        {
          "output_type": "execute_result",
          "data": {
            "text/plain": [
              "array([[1, 0, 1, 0, 0, 1, 0, 0, 0, 0, 1, 0, 0, 0, 1, 1, 1, 0, 0, 0],\n",
              "       [1, 1, 0, 1, 0, 0, 0, 2, 0, 1, 0, 0, 1, 0, 0, 0, 0, 1, 0, 1],\n",
              "       [0, 1, 0, 2, 1, 0, 1, 0, 1, 0, 0, 1, 0, 1, 2, 0, 0, 0, 1, 0]])"
            ]
          },
          "metadata": {},
          "execution_count": 13
        }
      ]
    },
    {
      "cell_type": "markdown",
      "metadata": {
        "id": "7mMHdNfWRI1A"
      },
      "source": [
        "bag cool found is math next not of on representing river street text that the to was way word words\n",
        "\n",
        "[1, 0, 1, 0, 0, 1, 0, 0, 0, 0, 1, 0, 0, 0, 1, 1, 1, 0, 0, 0]\n",
        "\n",
        "[1, 1, 0, 1, 0, 0, 0, 2, 0, 1, 0, 0, 1, 0, 0, 0, 0, 1, 0, 1]\n",
        "\n",
        "[0, 1, 0, 2, 1, 0, 1, 0, 1, 0, 0, 1, 0, 1, 2, 0, 0, 0, 1, 0]"
      ]
    },
    {
      "cell_type": "markdown",
      "metadata": {
        "id": "lQf7QeYcSfZX"
      },
      "source": [
        "How to Improve the features representation:\n",
        "1.   Stop words List Removal\n",
        "2.   Lemmatization (brings to a common form)\n",
        "3.   Lowercasing\n",
        "4.   Limitation of Dictionary (max K, max words)\n",
        "5.   Synonym Mapping\n",
        "\n",
        "Problems:\n",
        "1. Different words have different meaning in contexts\n",
        "2. Context and order matters\n",
        "3. Lack of distance Comparison between words used in similar context.\n",
        "\n"
      ]
    },
    {
      "cell_type": "markdown",
      "metadata": {
        "id": "4e032snbsA7S"
      },
      "source": [
        "\n",
        "**Math - Linear Algebra**\n",
        "\n",
        "*Linear Algebra is the branch of mathematics that studies [vector spaces](https://en.wikipedia.org/wiki/Vector_space) and linear transformations between vector spaces, such as rotating a shape, scaling it up or down, translating it (ie. moving it), etc.*\n",
        "\n",
        "*Machine Learning relies heavily on Linear Algebra, so it is essential to understand what vectors and matrices are, what operations you can perform with them, and how they can be useful.*"
      ]
    },
    {
      "cell_type": "markdown",
      "metadata": {
        "id": "QSJsXdF1sA7V"
      },
      "source": [
        "Before we start, let's ensure that this notebook works well in both Python 2 and 3:"
      ]
    },
    {
      "cell_type": "code",
      "metadata": {
        "id": "XGx2_Qi-sA7W"
      },
      "source": [
        "from __future__ import division, print_function, unicode_literals"
      ],
      "execution_count": null,
      "outputs": []
    },
    {
      "cell_type": "markdown",
      "metadata": {
        "id": "6pqK3PGXsA7Y"
      },
      "source": [
        "# Vectors\n",
        "## Definition\n",
        "A vector is a quantity defined by a magnitude and a direction. For example, a rocket's velocity is a 3-dimensional vector: its magnitude is the speed of the rocket, and its direction is (hopefully) up. A vector can be represented by an array of numbers called *scalars*. Each scalar corresponds to the magnitude of the vector with regards to each dimension.\n",
        "\n",
        "For example, say the rocket is going up at a slight angle: it has a vertical speed of 5,000 m/s, and also a slight speed towards the East at 10 m/s, and a slight speed towards the North at 50 m/s. The rocket's velocity may be represented by the following vector:\n",
        "\n",
        "**velocity** $= \\begin{pmatrix}\n",
        "10 \\\\\n",
        "50 \\\\\n",
        "5000 \\\\\n",
        "\\end{pmatrix}$\n",
        "\n",
        "Note: by convention vectors are generally presented in the form of columns. Also, vector names are generally lowercase to distinguish them from matrices (which we will discuss below) and in bold (when possible) to distinguish them from simple scalar values such as ${meters\\_per\\_second} = 5026$.\n",
        "\n",
        "A list of N numbers may also represent the coordinates of a point in an N-dimensional space, so it is quite frequent to represent vectors as simple points instead of arrows. A vector with 1 element may be represented as an arrow or a point on an axis, a vector with 2 elements is an arrow or a point on a plane, a vector with 3 elements is an arrow or point in space, and a vector with N elements is an arrow or a point in an N-dimensional space… which most people find hard to imagine.\n",
        "\n",
        "\n",
        "##  Purpose\n",
        "Vectors have many purposes in Machine Learning, most notably to represent observations and predictions. For example, say we built a Machine Learning system to classify videos into 3 categories (good, spam, clickbait) based on what we know about them. For each video, we would have a vector representing what we know about it, such as:\n",
        "\n",
        "**video** $= \\begin{pmatrix}\n",
        "10.5 \\\\\n",
        "5.2 \\\\\n",
        "3.25 \\\\\n",
        "7.0\n",
        "\\end{pmatrix}$\n",
        "\n",
        "This vector could represent a video that lasts 10.5 minutes, but only 5.2% viewers watch for more than a minute, it gets 3.25 views per day on average, and it was flagged 7 times as spam. As you can see, each axis may have a different meaning.\n",
        "\n",
        "Based on this vector our Machine Learning system may predict that there is an 80% probability that it is a spam video, 18% that it is clickbait, and 2% that it is a good video. This could be represented as the following vector:\n",
        "\n",
        "**class_probabilities** $= \\begin{pmatrix}\n",
        "0.80 \\\\\n",
        "0.18 \\\\\n",
        "0.02\n",
        "\\end{pmatrix}$"
      ]
    },
    {
      "cell_type": "markdown",
      "metadata": {
        "id": "ed2DcsO3sA7a"
      },
      "source": [
        "## Vectors in python\n",
        "In python, a vector can be represented in many ways, the simplest being a regular python list of numbers:"
      ]
    },
    {
      "cell_type": "code",
      "metadata": {
        "id": "-Aq3i1q6sA7b",
        "colab": {
          "base_uri": "https://localhost:8080/"
        },
        "outputId": "24e8b53b-c71d-4884-a63a-53b83a110229"
      },
      "source": [
        "[10.5, 5.2, 3.25, 7.0]"
      ],
      "execution_count": null,
      "outputs": [
        {
          "output_type": "execute_result",
          "data": {
            "text/plain": [
              "[10.5, 5.2, 3.25, 7.0]"
            ]
          },
          "metadata": {},
          "execution_count": 15
        }
      ]
    },
    {
      "cell_type": "markdown",
      "metadata": {
        "id": "D1FI8ywmsA7d"
      },
      "source": [
        "Since we plan to do quite a lot of scientific calculations, it is much better to use NumPy's `ndarray`, which provides a lot of convenient and optimized implementations of essential mathematical operations on vectors (for more details about NumPy, check out the [NumPy tutorial](tools_numpy.ipynb)). For example:"
      ]
    },
    {
      "cell_type": "code",
      "metadata": {
        "id": "BUWnhV4jsA7e",
        "colab": {
          "base_uri": "https://localhost:8080/"
        },
        "outputId": "90cac3a5-d072-43cd-96d3-5cdad18e31d5"
      },
      "source": [
        "import numpy as np\n",
        "video = np.array([10.5, 5.2, 3.25, 7.0])\n",
        "video"
      ],
      "execution_count": null,
      "outputs": [
        {
          "output_type": "execute_result",
          "data": {
            "text/plain": [
              "array([10.5 ,  5.2 ,  3.25,  7.  ])"
            ]
          },
          "metadata": {},
          "execution_count": 16
        }
      ]
    },
    {
      "cell_type": "markdown",
      "metadata": {
        "id": "wX_DilZvsA7e"
      },
      "source": [
        "The size of a vector can be obtained using the `size` attribute:"
      ]
    },
    {
      "cell_type": "code",
      "metadata": {
        "id": "ho6c6jy4sA7f",
        "colab": {
          "base_uri": "https://localhost:8080/"
        },
        "outputId": "6c3b5d87-8ac7-44ad-bf48-b536da2fd973"
      },
      "source": [
        "video.size"
      ],
      "execution_count": null,
      "outputs": [
        {
          "output_type": "execute_result",
          "data": {
            "text/plain": [
              "4"
            ]
          },
          "metadata": {},
          "execution_count": 17
        }
      ]
    },
    {
      "cell_type": "markdown",
      "metadata": {
        "id": "3gj-oejqsA7g"
      },
      "source": [
        "The $i^{th}$ element (also called *entry* or *item*) of a vector $\\textbf{v}$ is noted $\\textbf{v}_i$.\n",
        "\n",
        "Note that indices in mathematics generally start at 1, but in programming they usually start at 0. So to access $\\textbf{video}_3$ programmatically, we would write:"
      ]
    },
    {
      "cell_type": "code",
      "metadata": {
        "id": "xaj8I1EusA7h",
        "colab": {
          "base_uri": "https://localhost:8080/"
        },
        "outputId": "2033b2cc-f5c4-4b7a-9852-5c8f92c0d9be"
      },
      "source": [
        "video[2]  # 3rd element"
      ],
      "execution_count": null,
      "outputs": [
        {
          "output_type": "execute_result",
          "data": {
            "text/plain": [
              "3.25"
            ]
          },
          "metadata": {},
          "execution_count": 18
        }
      ]
    },
    {
      "cell_type": "markdown",
      "metadata": {
        "id": "3zIpmhbAsA7h"
      },
      "source": [
        "## Plotting vectors\n",
        "To plot vectors we will use matplotlib, so let's start by importing it (for details about matplotlib, check the [matplotlib tutorial](tools_matplotlib.ipynb)):"
      ]
    },
    {
      "cell_type": "code",
      "metadata": {
        "id": "-CoOBbA7sA7h"
      },
      "source": [
        "%matplotlib inline\n",
        "import matplotlib.pyplot as plt"
      ],
      "execution_count": null,
      "outputs": []
    },
    {
      "cell_type": "markdown",
      "metadata": {
        "id": "1awfh15SsA7i"
      },
      "source": [
        "### 2D vectors\n",
        "Let's create a couple very simple 2D vectors to plot:"
      ]
    },
    {
      "cell_type": "code",
      "metadata": {
        "id": "B1oDOIcjsA7i"
      },
      "source": [
        "u = np.array([2, 5])\n",
        "v = np.array([3, 1])"
      ],
      "execution_count": null,
      "outputs": []
    },
    {
      "cell_type": "markdown",
      "metadata": {
        "id": "kMt04jy6sA7i"
      },
      "source": [
        "These vectors each have 2 elements, so they can easily be represented graphically on a 2D graph, for example as points:"
      ]
    },
    {
      "cell_type": "code",
      "metadata": {
        "id": "zyAzU4gOsA7j",
        "colab": {
          "base_uri": "https://localhost:8080/",
          "height": 269
        },
        "outputId": "bc47c0ca-a668-42cf-9f6c-43b96e15e4c4"
      },
      "source": [
        "x_coords, y_coords = zip(u, v)\n",
        "plt.scatter(x_coords, y_coords, color=[\"r\",\"b\"])\n",
        "plt.axis([0, 9, 0, 6])\n",
        "plt.grid()\n",
        "plt.show()"
      ],
      "execution_count": null,
      "outputs": [
        {
          "output_type": "display_data",
          "data": {
            "image/png": "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\n",
            "text/plain": [
              "<Figure size 432x288 with 1 Axes>"
            ]
          },
          "metadata": {
            "needs_background": "light"
          }
        }
      ]
    },
    {
      "cell_type": "markdown",
      "metadata": {
        "id": "YjXFtEIYsA7j"
      },
      "source": [
        "Vectors can also be represented as arrows. Let's create a small convenience function to draw nice arrows ***Not Important, maybe later***:"
      ]
    },
    {
      "cell_type": "code",
      "metadata": {
        "id": "1o1QkGMKsA7k"
      },
      "source": [
        "def plot_vector2d(vector2d, origin=[0, 0], **options):\n",
        "    return plt.arrow(origin[0], origin[1], vector2d[0], vector2d[1],\n",
        "              head_width=0.2, head_length=0.3, length_includes_head=True,\n",
        "              **options)"
      ],
      "execution_count": null,
      "outputs": []
    },
    {
      "cell_type": "markdown",
      "metadata": {
        "id": "KsnnSOacsA7k"
      },
      "source": [
        "Now let's draw the vectors **u** and **v** as arrows:"
      ]
    },
    {
      "cell_type": "code",
      "metadata": {
        "id": "nYeLC6ScsA7k",
        "colab": {
          "base_uri": "https://localhost:8080/",
          "height": 269
        },
        "outputId": "0288d288-7ac8-41ad-939c-dd8076bf01bc"
      },
      "source": [
        "plot_vector2d(u, color=\"r\")\n",
        "plot_vector2d(v, color=\"b\")\n",
        "plt.axis([0, 9, 0, 6])\n",
        "plt.grid()\n",
        "plt.show()"
      ],
      "execution_count": null,
      "outputs": [
        {
          "output_type": "display_data",
          "data": {
            "image/png": "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\n",
            "text/plain": [
              "<Figure size 432x288 with 1 Axes>"
            ]
          },
          "metadata": {
            "needs_background": "light"
          }
        }
      ]
    },
    {
      "cell_type": "markdown",
      "metadata": {
        "id": "A7_ClsOssA7k"
      },
      "source": [
        "### 3D vectors\n",
        "Plotting 3D vectors is also relatively straightforward. First let's create two 3D vectors:"
      ]
    },
    {
      "cell_type": "code",
      "metadata": {
        "id": "m20C5KcDsA7l"
      },
      "source": [
        "a = np.array([1, 2, 8])\n",
        "b = np.array([5, 6, 3])"
      ],
      "execution_count": null,
      "outputs": []
    },
    {
      "cell_type": "markdown",
      "metadata": {
        "id": "1_Ad1kgAsA7l"
      },
      "source": [
        "Now let's plot them using matplotlib's `Axes3D`:"
      ]
    },
    {
      "cell_type": "code",
      "metadata": {
        "id": "PX8LJ72gsA7l",
        "colab": {
          "base_uri": "https://localhost:8080/",
          "height": 248
        },
        "outputId": "45b876f4-9c22-42a6-d9d8-081a1f244468"
      },
      "source": [
        "from mpl_toolkits.mplot3d import Axes3D\n",
        "\n",
        "subplot3d = plt.subplot(111, projection='3d')\n",
        "x_coords, y_coords, z_coords = zip(a,b)\n",
        "subplot3d.scatter(x_coords, y_coords, z_coords)\n",
        "subplot3d.set_zlim3d([0, 9])\n",
        "plt.show()"
      ],
      "execution_count": null,
      "outputs": [
        {
          "output_type": "display_data",
          "data": {
            "image/png": "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