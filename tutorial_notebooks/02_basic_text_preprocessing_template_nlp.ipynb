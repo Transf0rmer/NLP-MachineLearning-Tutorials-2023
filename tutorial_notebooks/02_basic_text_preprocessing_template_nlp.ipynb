{
  "cells": [
    {
      "cell_type": "markdown",
      "metadata": {
        "id": "view-in-github",
        "colab_type": "text"
      },
      "source": [
        "<a href=\"https://colab.research.google.com/github/Andrian0s/ML4NLP1-2023-Tutorial-Notebooks/blob/main/tutorial_notebooks/02_basic_text_preprocessing_template_nlp.ipynb\" target=\"_parent\"><img src=\"https://colab.research.google.com/assets/colab-badge.svg\" alt=\"Open In Colab\"/></a>"
      ]
    },
    {
      "cell_type": "markdown",
      "id": "9587a044",
      "metadata": {
        "papermill": {
          "duration": 0.011663,
          "end_time": "2022-09-13T13:53:07.969504",
          "exception": false,
          "start_time": "2022-09-13T13:53:07.957841",
          "status": "completed"
        },
        "tags": [],
        "id": "9587a044"
      },
      "source": [
        "Text pre-processing is one of mandatory steps we will preform while creating a NLP application. As humans, the text we usually write contains lots of spelling errors, short words, special symbols, emojis, etc, which we can understand but we need to preprocess this text if we want the computer to understand it. In this notebook, we will discuss some of the types of text pre-processing you will need to perform while working with text data."
      ]
    },
    {
      "cell_type": "markdown",
      "id": "27c8725d",
      "metadata"