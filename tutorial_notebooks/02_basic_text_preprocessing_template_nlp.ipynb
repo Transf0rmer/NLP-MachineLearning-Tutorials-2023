{
  "cells": [
    {
      "cell_type": "markdown",
      "metadata": {
        "id": "view-in-github",
        "colab_type": "text"
      },
      "source": [
        "<a href=\"https://colab.research.google.com/github/Andrian0s/ML4NLP1-2023-Tutorial-Notebooks/blob/main/tutorial_notebooks/02_basic_text_preprocessing_template_nlp.ipynb\" target=\"_parent\"><img src=\"https://colab.research.google.com/assets/colab-badge.svg\" alt=\"Open In Colab\"/></a>"
      ]
    },
    {
      "cell_type": "markdown",
      "id": "9587a044",
      "metadata": {
        "papermill": {
          "duration": 0.011663,
          "end_time": "2022-09-13T13:53:07.969504",
          "exception": false,
          "start_time": "2022-09-13T13:53:07.957841",
          "status": "completed"
        },
        "tags": [],
        "id": "9587a044"
      },
      "source": [
        "Text pre-processing is one of mandatory steps we will preform while creating a NLP application. As humans, the text we usually write contains lots of spelling errors, short words, special symbols, emojis, etc, which we can understand but we need to preprocess this text if we want the computer to understand it. In this notebook, we will discuss some of the types of text pre-processing you will need to perform while working with text data."
      ]
    },
    {
      "cell_type": "markdown",
      "id": "27c8725d",
      "metadata": {
        "papermill": {
          "duration": 0.009371,
          "end_time": "2022-09-13T13:53:07.988783",
          "exception": false,
          "start_time": "2022-09-13T13:53:07.979412",
          "status": "completed"
        },
        "tags": [],
        "id": "27c8725d"
      },
      "source": [
        "## **Table of Contents**\n",
        "> 1. [Lowercasing](#1)\n",
        "> 2. [Removing HTML Tags](#2)\n",
        "> 3. [Removing URLs](#3)\n",
        "> 4. [Removing Punctuations](#4)\n",
        "> 5. [Chat word treatment](#5)\n",
        "> 6. [Spelling Correction](#6)\n",
        "> 7. [Removing stop words](#7)\n",
        "> 8. [Handling Emojis](#8)\n",
        "> 9. [Tokenization](#9)\n",
        ">10. [Stemming](#10)\n",
        ">11. [References](#11)"
      ]
    },
    {
      "cell_type": "code",
      "execution_count": null,
      "id": "5fa31c53",
      "metadata": {
        "execution": {
          "iopub.execute_input": "2022-09-13T13:53:08.010290Z",
          "iopub.status.busy": "2022-09-13T13:53:08.009670Z",
          "iopub.status.idle": "2022-09-13T13:53:09.948051Z",
          "shell.execute_reply": "2022-09-13T13:53:09.946853Z"
        },
        "papermill": {
          "duration": 1.952945,
          "end_time": "2022-09-13T13:53:09.951341",
          "exception": false,
          "start_time": "2022-09-13T13:53:07.998396",
          "status": "completed"
        },
        "tags": [],
        "id": "5fa31c53"
      },
      "outputs": [],
      "source": [
        "import pandas as pd\n",
        "import numpy as np\n",
        "imdb_reviews = pd.read_csv('../input/imdb-dataset-of-50k-movie-reviews/IMDB Dataset.csv')\n",
        "twitter_tweets = pd.read_csv('../input/twitter-sentiment-analysis-hatred-speech/train.csv')"
      ]
    },
    {
      "cell_type": "markdown",
      "id": "3b65df54",
      "metadata": {
        "papermill": {
          "duration": 0.009969,
          "end_time": "2022-09-13T13:53:09.970699",
          "exception": false,
          "start_time": "2022-09-13T13:53:09.960730",
          "status": "completed"
        },
        "tags": [],
        "id": "3b65df54"
      },
      "source": [
        "<div style='color: #216969;\n",
        "           background-color: #EAF6F6;\n",
        "           font-size: 200%;\n",
        "           border-radius:15px;\n",
        "           text-align:center;\n",
        "           font-weight:600;\n",
        "           border-style: solid;\n",
        "           border-color: dark green;\n",
        "           font-family: \"Verdana\";'>\n",
        "Lowercasing\n",
        "<a class=\"anchor\" id=\"1\"></a>"
      ]
    },
    {
      "cell_type": "markdown",
      "id": "db14fc2e",
      "metadata": {
        "papermill": {
          "duration": 0.009135,
          "end_time": "2022-09-13T13:53:09.990745",
          "exception": false,
          "start_time": "2022-09-13T13:53:09.981610",
          "status": "completed"
        },
        "tags": [],
        "id": "db14fc2e"
      },
      "source": [
        "It is the process of converting a word into lower case. If a particular word (lets say `Book`) appears in the beginning of the sentence with a capital letter and another word (`book`) appears later in the sentence without a capital letter, our model will treat these 2 words differently. The process of lowercasing is usually very simple, we can use the `.lower()` method"
      ]
    },
    {
      "cell_type": "code",
      "execution_count": null,
      "id": "3110b911",
      "metadata": {
        "execution": {
          "iopub.execute_input": "2022-09-13T13:53:10.011975Z",
          "iopub.status.busy": "2022-09-13T13:53:10.011477Z",
          "iopub.status.idle": "2022-09-13T13:53:10.017072Z",
          "shell.execute_reply": "2022-09-13T13:53:10.015696Z"
        },
        "papermill": {
          "duration": 0.019284,
          "end_time": "2022-09-13T13:53:10.019615",
          "exception": false,
          "start_time": "2022-09-13T13:53:10.000331",
          "status": "completed"
        },
        "tags": [],
        "id": "3110b911"
      },
      "outputs": [],
      "source": [
        "def convert_lowercase(column):\n",
        "    column = column.str.lower()\n",
        "    return column"
      ]
    },
    {
      "cell_type": "code",
      "execution_count": null,
      "id": "16900f9d",
      "metadata": {
        "execution": {
          "iopub.execute_input": "2022-09-13T13:53:10.040862Z",
          "iopub.status.busy": "2022-09-13T13:53:10.040387Z",
          "iopub.status.idle": "2022-09-13T13:53:10.244374Z",
          "shell.execute_reply": "2022-09-13T13:53:10.242633Z"
        },
        "papermill": {
          "duration": 0.218048,
          "end_time": "2022-09-13T13:53:10.247259",
          "exception": false,
          "start_time": "2022-09-13T13:53:10.029211",
          "status": "completed"
        },
        "tags": [],
        "id": "16900f9d",
        "outputId": "e364068b-8c12-40d6-8568-22e0f99a14bf"
      },
      "outputs": [
        {
          "name": "stdout",
          "output_type": "stream",
          "text": [
            "Before applying lower casing: One of the\n",
            "After applying lower casing : one of the\n"
          ]
        }
      ],
      "source": [
        "print(f\"Before applying lower casing: {imdb_reviews['review'][0][:10]}\")\n",
        "\n",
        "imdb_reviews['review'] = convert_lowercase(imdb_reviews['review'])\n",
        "\n",
        "print(f\"After applying lower casing : {imdb_reviews['review'][0][:10]}\")"
      ]
    },
    {
      "cell_type": "markdown",
      "id": "69639c6d",
      "metadata": {
        "papermill": {
          "duration": 0.009373,
          "end_time": "2022-09-13T13:53:10.266460",
          "exception": false,
          "start_time": "2022-09-13T13:53:10.257087",
          "status": "completed"
        },
        "tags": [],
        "id": "69639c6d"
      },
      "source": [
        "<div style='color: #216969;\n",
        "           background-color: #EAF6F6;\n",
        "           font-size: 200%;\n",
        "           border-radius:15px;\n",
        "           text-align:center;\n",
        "           font-weight:600;\n",
        "           border-style: solid;\n",
        "           border-color: dark green;\n",
        "           font-family: \"Verdana\";'>\n",
        "Removing HTML Tags\n",
        "<a class=\"anchor\" id=\"2\"></a>"
      ]
    },
    {
      "cell_type": "markdown",
      "id": "9a690f6e",
      "metadata": {
        "papermill": {
          "duration": 0.009388,
          "end_time": "2022-09-13T13:53:10.285377",
          "exception": false,
          "start_time": "2022-09-13T13:53:10.275989",
          "status": "completed"
        },
        "tags": [],
        "id": "9a690f6e"
      },
      "source": [
        "Whenever you will scrape a website, HTML tags such as `header`, `body`, `anchor`, etc, will be present. These tags won't add any value to the text data we have and therefore, should be removed. We can remove these HTML tags by using regular expressions."
      ]
    },
    {
      "cell_type": "code",
      "execution_count": null,
      "id": "41cffe1a",
      "metadata": {
        "execution": {
          "iopub.execute_input": "2022-09-13T13:53:10.307270Z",
          "iopub.status.busy": "2022-09-13T13:53:10.305788Z",
          "iopub.status.idle": "2022-09-13T13:53:10.312294Z",
          "shell.execute_reply": "2022-09-13T13:53:10.311099Z"
        },
        "papermill": {
          "duration": 0.019758,
          "end_time": "2022-09-13T13:53:10.314667",
          "exception": false,
          "start_time": "2022-09-13T13:53:10.294909",
          "status": "completed"
        },
        "tags": [],
        "id": "41cffe1a"
      },
      "outputs": [],
      "source": [
        "import re\n",
        "def remove_html_tags(text):\n",
        "    re_html = re.compile('<.*?>')\n",
        "    return re_html.sub(r'', text)"
      ]
    },
    {
      "cell_type": "code",
      "execution_count": null,
      "id": "f7d79576",
      "metadata": {
        "execution": {
          "iopub.execute_input": "2022-09-13T13:53:10.336041Z",
          "iopub.status.busy": "2022-09-13T13:53:10.335565Z",
          "iopub.status.idle": "2022-09-13T13:53:10.341487Z",
          "shell.execute_reply": "2022-09-13T13:53:10.340340Z"
        },
        "papermill": {
          "duration": 0.019885,
          "end_time": "2022-09-13T13:53:10.344195",
          "exception": false,
          "start_time": "2022-09-13T13:53:10.324310",
          "status": "completed"
        },
        "tags": [],
        "id": "f7d79576",
        "outputId": "0a09b1cd-61c7-4480-af4c-6f1420e1be8e"
      },
      "outputs": [
        {
          "name": "stdout",
          "output_type": "stream",
          "text": [
            " This is a h1 tag \n"
          ]
        }
      ],
      "source": [
        "text = '<h1> This is a h1 tag </h1>'\n",
        "print(remove_html_tags(text))"
      ]
    },
    {
      "cell_type": "code",
      "execution_count": null,
      "id": "915aeb05",
      "metadata": {
        "execution": {
          "iopub.execute_input": "2022-09-13T13:53:10.365957Z",
          "iopub.status.busy": "2022-09-13T13:53:10.365445Z",
          "iopub.status.idle": "2022-09-13T13:53:10.573602Z",
          "shell.execute_reply": "2022-09-13T13:53:10.572300Z"
        },
        "papermill": {
          "duration": 0.222604,
          "end_time": "2022-09-13T13:53:10.576675",
          "exception": false,
          "start_time": "2022-09-13T13:53:10.354071",
          "status": "completed"
        },
        "tags": [],
        "id": "915aeb05",
        "outputId": "a7133c2c-eccf-4fc4-901c-614db0cb7bb9"
      },
      "outputs": [
        {
          "name": "stdout",
          "output_type": "stream",
          "text": [
            "Before removing HTML tags: a wonderful little production. <br /><br />the filming technique is ve\n",
            "After removing HTML tags : a wonderful little production. the filming technique is very unassumin\n"
          ]
        }
      ],
      "source": [
        "print(f\"Before removing HTML tags: {imdb_reviews['review'][1][:70]}\")\n",
        "imdb_reviews['review'] = imdb_reviews['review'].apply(remove_html_tags)\n",
        "print(f\"After removing HTML tags : {imdb_reviews['review'][1][:70]}\")\n"
      ]
    },
    {
      "cell_type": "markdown",
      "id": "6aa155a0",
      "metadata": {
        "papermill": {
          "duration": 0.00987,
          "end_time": "2022-09-13T13:53:10.596580",
          "exception": false,
          "start_time": "2022-09-13T13:53:10.586710",
          "status": "completed"
        },
        "tags": [],
        "id": "6aa155a0"
      },
      "source": [
        "<div style='color: #216969;\n",
        "           background-color: #EAF6F6;\n",
        "           font-size: 200%;\n",
        "           border-radius:15px;\n",
        "           text-align:center;\n",
        "           font-weight:600;\n",
        "           border-style: solid;\n",
        "           border-color: dark green;\n",
        "           font-family: \"Verdana\";'>\n",
        "Removing URLs\n",
        "<a class=\"anchor\" id=\"3\"></a>"
      ]
    },
    {
      "cell_type": "markdown",
      "id": "041aca35",
      "metadata": {
        "papermill": {
          "duration": 0.009549,
          "end_time": "2022-09-13T13:53:10.616094",
          "exception": false,
          "start_time": "2022-09-13T13:53:10.606545",
          "status": "completed"
        },
        "tags": [],
        "id": "041aca35"
      },
      "source": [
        "`URLs` in a text references to a location to the web but just like HTML tags, it doesn't provide any useful information. We can remove URLs by using regular expressions"
      ]
    },
    {
      "cell_type": "code",
      "execution_count": null,
      "id": "ef3d6be0",
      "metadata": {
        "execution": {
          "iopub.execute_input": "2022-09-13T13:53:10.639085Z",
          "iopub.status.busy": "2022-09-13T13:53:10.638542Z",
          "iopub.status.idle": "2022-09-13T13:53:10.646273Z",
          "shell.execute_reply": "2022-09-13T13:53:10.645112Z"
        },
        "papermill": {
          "duration": 0.02279,
          "end_time": "2022-09-13T13:53:10.648623",
          "exception": false,
          "start_time": "2022-09-13T13:53:10.625833",
          "status": "completed"
        },
        "tags": [],
        "id": "ef3d6be0"
      },
      "outputs": [],
      "source": [
        "text = 'My profile link: https://www.kaggle.com/anubhavgoyal10'\n",
   